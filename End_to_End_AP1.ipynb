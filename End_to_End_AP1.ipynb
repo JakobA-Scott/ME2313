{
  "nbformat": 4,
  "nbformat_minor": 0,
  "metadata": {
    "colab": {
      "provenance": [],
      "authorship_tag": "ABX9TyNMk0pAqER6GcD38NdYMTq0",
      "include_colab_link": true
    },
    "kernelspec": {
      "name": "python3",
      "display_name": "Python 3"
    },
    "language_info": {
      "name": "python"
    }
  },
  "cells": [
    {
      "cell_type": "markdown",
      "metadata": {
        "id": "view-in-github",
        "colab_type": "text"
      },
      "source": [
        "<a href=\"https://colab.research.google.com/github/JakobA-Scott/ME2313/blob/main/End_to_End_AP1.ipynb\" target=\"_parent\"><img src=\"https://colab.research.google.com/assets/colab-badge.svg\" alt=\"Open In Colab\"/></a>"
      ]
    },
    {
      "cell_type": "markdown",
      "source": [
        "# ***END TO END PROJECT***\n"
      ],
      "metadata": {
        "id": "J5SRpdej9o_2"
      }
    },
    {
      "cell_type": "markdown",
      "source": [
        "Hej vänner!\n",
        "I ipynb kan vi köra koden i blocks som vi diskuterade under dagens föreläsning."
      ],
      "metadata": {
        "id": "bwD9F0im8DAp"
      }
    },
    {
      "cell_type": "markdown",
      "source": [
        "**Libraries**"
      ],
      "metadata": {
        "id": "dizgbQw28YF8"
      }
    },
    {
      "cell_type": "code",
      "source": [
        "import pandas as pd\n",
        "import numpy as np\n",
        "import matplotlib.pyplot as plt\n",
        "import tensorflow as tf\n",
        "import torch"
      ],
      "metadata": {
        "id": "8UczkIwq8IqY"
      },
      "execution_count": null,
      "outputs": []
    }
  ]
}